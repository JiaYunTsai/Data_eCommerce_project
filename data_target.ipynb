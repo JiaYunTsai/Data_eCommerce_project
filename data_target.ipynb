{
 "cells": [
  {
   "cell_type": "code",
   "execution_count": 61,
   "metadata": {},
   "outputs": [],
   "source": [
    "import pandas as pd\n",
    "import random"
   ]
  },
  {
   "cell_type": "code",
   "execution_count": 62,
   "metadata": {},
   "outputs": [],
   "source": [
    "use_column = [\"ShopMemberId\", \"Behavior\", \"SalePageId\", \"HitTime\"]\n",
    "dtypes = {\"ShopMemberId\": str, \"Behavior\": str, \"SalePageId\": str}\n",
    "\n",
    "# df1.to_csv(\"data2.csv\")\n",
    "df1 = pd.read_csv(\"BQ1.csv\", low_memory=False, dtype=dtypes)\n",
    "# df2 = pd.read_csv(\"BQ2.csv\", low_memory=False, dtype=dtypes)\n",
    "# df3 = pd.read_csv(\"BQ3.csv\", low_memory=False, dtype=dtypes)\n",
    "\n",
    "# df1[\"HitTime\"] = pd.to_datetime(df1['\"HitTime\"'], format=\"%Y-%m-%d\")\n"
   ]
  },
  {
   "cell_type": "code",
   "execution_count": 63,
   "metadata": {},
   "outputs": [
    {
     "name": "stdout",
     "output_type": "stream",
     "text": [
      "Index(['ShopMemberId', 'Behavior', 'SalePageId', 'HitTime'], dtype='object')\n"
     ]
    }
   ],
   "source": [
    "print(df1.columns)"
   ]
  },
  {
   "cell_type": "code",
   "execution_count": 64,
   "metadata": {},
   "outputs": [],
   "source": [
    "df1['HitTime'] = pd.to_datetime(df1['HitTime'])"
   ]
  },
  {
   "cell_type": "code",
   "execution_count": 65,
   "metadata": {},
   "outputs": [],
   "source": [
    "df1_March = df1[(df1['HitTime']>='2022-03-01')& (df1['HitTime']<='2022-03-31')].copy()"
   ]
  },
  {
   "attachments": {},
   "cell_type": "markdown",
   "metadata": {},
   "source": [
    "## df2"
   ]
  },
  {
   "cell_type": "code",
   "execution_count": 66,
   "metadata": {},
   "outputs": [],
   "source": [
    "df2 = pd.read_csv(\"BQ2.csv\", low_memory=False, dtype=dtypes)\n",
    "df3 = pd.read_csv(\"BQ3.csv\", low_memory=False, dtype=dtypes)"
   ]
  },
  {
   "cell_type": "code",
   "execution_count": 67,
   "metadata": {},
   "outputs": [
    {
     "data": {
      "text/html": [
       "<div>\n",
       "<style scoped>\n",
       "    .dataframe tbody tr th:only-of-type {\n",
       "        vertical-align: middle;\n",
       "    }\n",
       "\n",
       "    .dataframe tbody tr th {\n",
       "        vertical-align: top;\n",
       "    }\n",
       "\n",
       "    .dataframe thead th {\n",
       "        text-align: right;\n",
       "    }\n",
       "</style>\n",
       "<table border=\"1\" class=\"dataframe\">\n",
       "  <thead>\n",
       "    <tr style=\"text-align: right;\">\n",
       "      <th></th>\n",
       "      <th>ShopMemberId</th>\n",
       "      <th>Behavior</th>\n",
       "      <th>SalePageId</th>\n",
       "      <th>HitTime</th>\n",
       "    </tr>\n",
       "  </thead>\n",
       "  <tbody>\n",
       "    <tr>\n",
       "      <th>0</th>\n",
       "      <td>8iKBSgUsYBuQG5yrJ1eieObsmWA44GCEOpSLoS3uX6g=</td>\n",
       "      <td>viewproduct</td>\n",
       "      <td>gF2T7BEh3Ig6QnAZ6iabUA==</td>\n",
       "      <td>2022-11-01 12:42:07.917 UTC</td>\n",
       "    </tr>\n",
       "    <tr>\n",
       "      <th>1</th>\n",
       "      <td>8iKBSgUsYBuQG5yrJ1eieObsmWA44GCEOpSLoS3uX6g=</td>\n",
       "      <td>viewproduct</td>\n",
       "      <td>gF2T7BEh3Ig6QnAZ6iabUA==</td>\n",
       "      <td>2022-11-01 12:42:07.917 UTC</td>\n",
       "    </tr>\n",
       "    <tr>\n",
       "      <th>2</th>\n",
       "      <td>8iKBSgUsYBuQG5yrJ1eieObsmWA44GCEOpSLoS3uX6g=</td>\n",
       "      <td>selectcontent</td>\n",
       "      <td>NaN</td>\n",
       "      <td>2022-11-01 12:42:07.917 UTC</td>\n",
       "    </tr>\n",
       "    <tr>\n",
       "      <th>3</th>\n",
       "      <td>8iKBSgUsYBuQG5yrJ1eieObsmWA44GCEOpSLoS3uX6g=</td>\n",
       "      <td>selectcontent</td>\n",
       "      <td>NaN</td>\n",
       "      <td>2022-11-01 12:42:07.917 UTC</td>\n",
       "    </tr>\n",
       "    <tr>\n",
       "      <th>4</th>\n",
       "      <td>8iKBSgUsYBuQG5yrJ1eieObsmWA44GCEOpSLoS3uX6g=</td>\n",
       "      <td>viewmainpage</td>\n",
       "      <td>NaN</td>\n",
       "      <td>2022-11-01 12:42:07.917 UTC</td>\n",
       "    </tr>\n",
       "  </tbody>\n",
       "</table>\n",
       "</div>"
      ],
      "text/plain": [
       "                                   ShopMemberId       Behavior  \\\n",
       "0  8iKBSgUsYBuQG5yrJ1eieObsmWA44GCEOpSLoS3uX6g=    viewproduct   \n",
       "1  8iKBSgUsYBuQG5yrJ1eieObsmWA44GCEOpSLoS3uX6g=    viewproduct   \n",
       "2  8iKBSgUsYBuQG5yrJ1eieObsmWA44GCEOpSLoS3uX6g=  selectcontent   \n",
       "3  8iKBSgUsYBuQG5yrJ1eieObsmWA44GCEOpSLoS3uX6g=  selectcontent   \n",
       "4  8iKBSgUsYBuQG5yrJ1eieObsmWA44GCEOpSLoS3uX6g=   viewmainpage   \n",
       "\n",
       "                 SalePageId                      HitTime  \n",
       "0  gF2T7BEh3Ig6QnAZ6iabUA==  2022-11-01 12:42:07.917 UTC  \n",
       "1  gF2T7BEh3Ig6QnAZ6iabUA==  2022-11-01 12:42:07.917 UTC  \n",
       "2                       NaN  2022-11-01 12:42:07.917 UTC  \n",
       "3                       NaN  2022-11-01 12:42:07.917 UTC  \n",
       "4                       NaN  2022-11-01 12:42:07.917 UTC  "
      ]
     },
     "execution_count": 67,
     "metadata": {},
     "output_type": "execute_result"
    }
   ],
   "source": [
    "df2.head()"
   ]
  },
  {
   "cell_type": "code",
   "execution_count": 68,
   "metadata": {},
   "outputs": [],
   "source": [
    "df2['HitTime'] = pd.to_datetime(df2['HitTime'])\n",
    "df3['HitTime'] = pd.to_datetime(df3['HitTime'])"
   ]
  },
  {
   "cell_type": "code",
   "execution_count": 69,
   "metadata": {},
   "outputs": [],
   "source": [
    "df2_March = df2[(df2['HitTime']>='2022-03-01')& (df2['HitTime']<='2022-03-31')].copy()\n",
    "df3_March = df3[(df3['HitTime']>='2022-03-01')& (df3['HitTime']<='2022-03-31')].copy()"
   ]
  },
  {
   "cell_type": "code",
   "execution_count": 70,
   "metadata": {},
   "outputs": [
    {
     "name": "stdout",
     "output_type": "stream",
     "text": [
      "28134139\n",
      "695983083\n"
     ]
    }
   ],
   "source": [
    "df_march = df1_March.merge(df2_March)\n",
    "print(len(df_march.index))\n",
    "df_march = df_march.merge(df3_March)\n",
    "print(len(df_march.index))\n"
   ]
  },
  {
   "cell_type": "code",
   "execution_count": 71,
   "metadata": {},
   "outputs": [],
   "source": [
    "selected_shop_member_ids = df_march.ShopMemberId.unique()"
   ]
  },
  {
   "cell_type": "code",
   "execution_count": 102,
   "metadata": {},
   "outputs": [],
   "source": [
    "random_group = random.sample(list(selected_shop_member_ids), k=300)\n",
    "random_sample = random.sample(list(random_group), k=10)\n",
    "with open('random_group.txt', 'w') as file:\n",
    "    for item in random_group:\n",
    "        file.write(f\"{item}\\n\")"
   ]
  },
  {
   "cell_type": "code",
   "execution_count": 103,
   "metadata": {},
   "outputs": [
    {
     "name": "stdout",
     "output_type": "stream",
     "text": [
      "['xtrqXIAO3ES2tz5YGr3NfUAZQEzqGJV4fKgiyu+tz1w=', '1hsqK7HX300yxI1+BJOASv/ZT5W6Jz7+snv2zpcJlqo=', '+zYSlZfgEoYJILGuWSXtsX00W4+1siTkLuAJDkxVkHU=', '9WC94oBOcCFXFCBq43agIJp6RBTThwk1nQcl6yzFkt0=', 'Mud1tzUhA9Qoy03F7ZmO2ZL/MK+1/SpP8BMF397rRek=', '1nofLv+HbeY0+iYDWYeLnXVb71/lHGvAiUEuThLLHL0=', 'AINJ4m/4VqSxni6eT7II+Vaxy1S5pLHkCqInH1VYUPI=', 'K89ZBEtotSQPKxq3rQdWaEYSUh4hQATScRblrez6o/8=', '+dKOyqlzIZjONOo44Eu8S++B7IfpDVjMjmsLP1IY6G4=', 'fy6H4FFRNfunEoHzRCNlEU+EETE4aXmYmA2jcvTEQQo=']\n"
     ]
    }
   ],
   "source": [
    "print(random_sample)"
   ]
  },
  {
   "cell_type": "code",
   "execution_count": 74,
   "metadata": {},
   "outputs": [
    {
     "name": "stdout",
     "output_type": "stream",
     "text": [
      "                                           ShopMemberId     Behavior  \\\n",
      "10990898   M8wxSYh8oQMAQazAUlNK5lHfQijBEZMymg1FyJPAY6I=  viewproduct   \n",
      "11970655   BuuuIReKoT7tAbyjhVuyIU41c1KtlSAa5XKgPeYQooo=  viewproduct   \n",
      "44987169   63T4Hd2W/Uy1zn/k57yc6zUTKzwU2Nm41719YeV0/SY=  viewproduct   \n",
      "44987234   63T4Hd2W/Uy1zn/k57yc6zUTKzwU2Nm41719YeV0/SY=  viewproduct   \n",
      "44987236   63T4Hd2W/Uy1zn/k57yc6zUTKzwU2Nm41719YeV0/SY=          add   \n",
      "...                                                 ...          ...   \n",
      "668956569  CnfZ1Uyu1NA8EH7mnP7ktVdiUMX73HsBVO2Uifb+LBs=  viewproduct   \n",
      "668956570  CnfZ1Uyu1NA8EH7mnP7ktVdiUMX73HsBVO2Uifb+LBs=  viewproduct   \n",
      "668956571  CnfZ1Uyu1NA8EH7mnP7ktVdiUMX73HsBVO2Uifb+LBs=  viewproduct   \n",
      "668956572  CnfZ1Uyu1NA8EH7mnP7ktVdiUMX73HsBVO2Uifb+LBs=  viewproduct   \n",
      "668956609  CnfZ1Uyu1NA8EH7mnP7ktVdiUMX73HsBVO2Uifb+LBs=  viewproduct   \n",
      "\n",
      "                         SalePageId  \n",
      "10990898   w4BgcL6IIUvO2D6/b7kGpg==  \n",
      "11970655   cHNh3Ll9Rr8wa9yKqHXIGw==  \n",
      "44987169   B0WCzH5eaWwG0l6LGH0RJQ==  \n",
      "44987234   2Xy5NUFL1R+xLiJrir3jjQ==  \n",
      "44987236   2Xy5NUFL1R+xLiJrir3jjQ==  \n",
      "...                             ...  \n",
      "668956569  RPDBt8YB6NwXjJ48PTjkkw==  \n",
      "668956570  RPDBt8YB6NwXjJ48PTjkkw==  \n",
      "668956571  RPDBt8YB6NwXjJ48PTjkkw==  \n",
      "668956572  RPDBt8YB6NwXjJ48PTjkkw==  \n",
      "668956609  rYTbFOSpk4m5smci4h+52w==  \n",
      "\n",
      "[2598 rows x 3 columns]\n"
     ]
    }
   ],
   "source": [
    "selected_data = df_march[df_march['ShopMemberId'].isin(random_group)]\n",
    "selected_data = selected_data[selected_data['Behavior'].isin(['viewproduct', 'add', 'checkout', 'purchase'])]\n",
    "selected_data = selected_data.drop('HitTime', axis=1)\n",
    "print(selected_data)\n",
    "\n",
    "\n"
   ]
  },
  {
   "cell_type": "code",
   "execution_count": 75,
   "metadata": {},
   "outputs": [],
   "source": [
    "selected_data.to_csv('data_march.csv')"
   ]
  },
  {
   "attachments": {},
   "cell_type": "markdown",
   "metadata": {},
   "source": [
    "## df april~June"
   ]
  },
  {
   "cell_type": "code",
   "execution_count": 76,
   "metadata": {},
   "outputs": [],
   "source": [
    "df_order =pd.read_csv('OrderData.csv',low_memory=False)"
   ]
  },
  {
   "cell_type": "code",
   "execution_count": 77,
   "metadata": {},
   "outputs": [
    {
     "data": {
      "text/html": [
       "<div>\n",
       "<style scoped>\n",
       "    .dataframe tbody tr th:only-of-type {\n",
       "        vertical-align: middle;\n",
       "    }\n",
       "\n",
       "    .dataframe tbody tr th {\n",
       "        vertical-align: top;\n",
       "    }\n",
       "\n",
       "    .dataframe thead th {\n",
       "        text-align: right;\n",
       "    }\n",
       "</style>\n",
       "<table border=\"1\" class=\"dataframe\">\n",
       "  <thead>\n",
       "    <tr style=\"text-align: right;\">\n",
       "      <th></th>\n",
       "      <th>ShopMemberId</th>\n",
       "      <th>TradesGroupCode</th>\n",
       "      <th>OrderDateTime</th>\n",
       "    </tr>\n",
       "  </thead>\n",
       "  <tbody>\n",
       "    <tr>\n",
       "      <th>0</th>\n",
       "      <td>tBRjIPC81i5YKJBUntHQMG7bS9/hdi339zyw/Mf+7hs=</td>\n",
       "      <td>kaZBGrx3w3B+uyBd4u1KrBcHdu7fCFmVJTR/btskLj1J9g...</td>\n",
       "      <td>2017-10-25 15:38:07.263</td>\n",
       "    </tr>\n",
       "    <tr>\n",
       "      <th>1</th>\n",
       "      <td>krZV8ISz2OfnMsU4/uHG7/eD6DiSsH5Ux9/OnfSsEuw=</td>\n",
       "      <td>D5qVKX4BOcsMGpA/u2SNoi5qPJ/9v5QDOzKdAlyVNzzbdS...</td>\n",
       "      <td>2019-02-04 14:38:31.710</td>\n",
       "    </tr>\n",
       "    <tr>\n",
       "      <th>2</th>\n",
       "      <td>XEaqqY1eRKzWOnVlEcsb8Pmr4GlfoVeJnaGHZLspuHU=</td>\n",
       "      <td>zlckkBKwIHcy7ZmGadIlJ/b5ul6kGhiIAOTXf98aaAA=</td>\n",
       "      <td>2022-01-28 18:18:59.950</td>\n",
       "    </tr>\n",
       "    <tr>\n",
       "      <th>3</th>\n",
       "      <td>OpN1EQjO6VegY9B5zEFQcxpTmt9L5UtVFHLJFiUj3cM=</td>\n",
       "      <td>2/kJAOwUlTEPwQK1PdMdcwgpadrDU+gSM/cktuPmeCJAbw...</td>\n",
       "      <td>2020-10-04 16:25:04.750</td>\n",
       "    </tr>\n",
       "    <tr>\n",
       "      <th>4</th>\n",
       "      <td>8UznbMg+eOSRlkBLXLS84s2XcK4BWu3L4+aB46m58WI=</td>\n",
       "      <td>swn3xlscpuSy2stEWoLhKOH+rqgdFw3y50b/PMWrEL0=</td>\n",
       "      <td>2022-09-04 17:31:27.590</td>\n",
       "    </tr>\n",
       "    <tr>\n",
       "      <th>...</th>\n",
       "      <td>...</td>\n",
       "      <td>...</td>\n",
       "      <td>...</td>\n",
       "    </tr>\n",
       "    <tr>\n",
       "      <th>2498902</th>\n",
       "      <td>vCE13BuuHkzLNjENG03hqRMHSNtC+PlUXoOMwNJDIes=</td>\n",
       "      <td>B6abuFW5X+62HNpQsb/R9mJ60zGT4AYWZaZZLmPo/0kooC...</td>\n",
       "      <td>2018-01-21 17:34:10.000</td>\n",
       "    </tr>\n",
       "    <tr>\n",
       "      <th>2498903</th>\n",
       "      <td>sWXNi5mjW7RRTCGeUKLt66DBI5xn7H0z9C5McGW3cs4=</td>\n",
       "      <td>aBT768gl7946Uhw2egYdiV5Sw7C/ASrTH36eZWJw5ZidL0...</td>\n",
       "      <td>2017-10-28 21:47:29.000</td>\n",
       "    </tr>\n",
       "    <tr>\n",
       "      <th>2498904</th>\n",
       "      <td>kZkAYAWKIike3X5uLKQi7MjHgd7WTTzoLtKAyYdWp3Y=</td>\n",
       "      <td>TZ9VwanlRQD6K/pvT/p4y053f2I1mHLvsdGnOeDtkI2Kfm...</td>\n",
       "      <td>2020-12-13 19:55:37.000</td>\n",
       "    </tr>\n",
       "    <tr>\n",
       "      <th>2498905</th>\n",
       "      <td>4kE3tw+9oBGoFvxkaXOox7Yghn5G0JewPV5SEANOCgk=</td>\n",
       "      <td>wAqZMWjXO6+hMGlY1EsfcMPPJGpi7yA8MXrUdAL7pDFvHS...</td>\n",
       "      <td>2018-02-11 19:29:59.000</td>\n",
       "    </tr>\n",
       "    <tr>\n",
       "      <th>2498906</th>\n",
       "      <td>rG19JG1e/KzcBgYmQKZLuDlx8rP2kfWKxC6P/0rLuAI=</td>\n",
       "      <td>Pg+klleVwPNT14kPrSrqBXPDvu6UadsDAg9rjtqLv2Sxtm...</td>\n",
       "      <td>2018-04-27 13:25:53.000</td>\n",
       "    </tr>\n",
       "  </tbody>\n",
       "</table>\n",
       "<p>2498907 rows × 3 columns</p>\n",
       "</div>"
      ],
      "text/plain": [
       "                                         ShopMemberId  \\\n",
       "0        tBRjIPC81i5YKJBUntHQMG7bS9/hdi339zyw/Mf+7hs=   \n",
       "1        krZV8ISz2OfnMsU4/uHG7/eD6DiSsH5Ux9/OnfSsEuw=   \n",
       "2        XEaqqY1eRKzWOnVlEcsb8Pmr4GlfoVeJnaGHZLspuHU=   \n",
       "3        OpN1EQjO6VegY9B5zEFQcxpTmt9L5UtVFHLJFiUj3cM=   \n",
       "4        8UznbMg+eOSRlkBLXLS84s2XcK4BWu3L4+aB46m58WI=   \n",
       "...                                               ...   \n",
       "2498902  vCE13BuuHkzLNjENG03hqRMHSNtC+PlUXoOMwNJDIes=   \n",
       "2498903  sWXNi5mjW7RRTCGeUKLt66DBI5xn7H0z9C5McGW3cs4=   \n",
       "2498904  kZkAYAWKIike3X5uLKQi7MjHgd7WTTzoLtKAyYdWp3Y=   \n",
       "2498905  4kE3tw+9oBGoFvxkaXOox7Yghn5G0JewPV5SEANOCgk=   \n",
       "2498906  rG19JG1e/KzcBgYmQKZLuDlx8rP2kfWKxC6P/0rLuAI=   \n",
       "\n",
       "                                           TradesGroupCode  \\\n",
       "0        kaZBGrx3w3B+uyBd4u1KrBcHdu7fCFmVJTR/btskLj1J9g...   \n",
       "1        D5qVKX4BOcsMGpA/u2SNoi5qPJ/9v5QDOzKdAlyVNzzbdS...   \n",
       "2             zlckkBKwIHcy7ZmGadIlJ/b5ul6kGhiIAOTXf98aaAA=   \n",
       "3        2/kJAOwUlTEPwQK1PdMdcwgpadrDU+gSM/cktuPmeCJAbw...   \n",
       "4             swn3xlscpuSy2stEWoLhKOH+rqgdFw3y50b/PMWrEL0=   \n",
       "...                                                    ...   \n",
       "2498902  B6abuFW5X+62HNpQsb/R9mJ60zGT4AYWZaZZLmPo/0kooC...   \n",
       "2498903  aBT768gl7946Uhw2egYdiV5Sw7C/ASrTH36eZWJw5ZidL0...   \n",
       "2498904  TZ9VwanlRQD6K/pvT/p4y053f2I1mHLvsdGnOeDtkI2Kfm...   \n",
       "2498905  wAqZMWjXO6+hMGlY1EsfcMPPJGpi7yA8MXrUdAL7pDFvHS...   \n",
       "2498906  Pg+klleVwPNT14kPrSrqBXPDvu6UadsDAg9rjtqLv2Sxtm...   \n",
       "\n",
       "                   OrderDateTime  \n",
       "0        2017-10-25 15:38:07.263  \n",
       "1        2019-02-04 14:38:31.710  \n",
       "2        2022-01-28 18:18:59.950  \n",
       "3        2020-10-04 16:25:04.750  \n",
       "4        2022-09-04 17:31:27.590  \n",
       "...                          ...  \n",
       "2498902  2018-01-21 17:34:10.000  \n",
       "2498903  2017-10-28 21:47:29.000  \n",
       "2498904  2020-12-13 19:55:37.000  \n",
       "2498905  2018-02-11 19:29:59.000  \n",
       "2498906  2018-04-27 13:25:53.000  \n",
       "\n",
       "[2498907 rows x 3 columns]"
      ]
     },
     "execution_count": 77,
     "metadata": {},
     "output_type": "execute_result"
    }
   ],
   "source": [
    "df_order = df_order[['ShopMemberId','TradesGroupCode','OrderDateTime']]\n",
    "\n",
    "df_order"
   ]
  },
  {
   "cell_type": "code",
   "execution_count": 78,
   "metadata": {},
   "outputs": [],
   "source": [
    "df_order = df_order[(df_order['OrderDateTime']>=\"2022-01-01\")&(df_order['OrderDateTime']<=\"2022-12-30\")]\n"
   ]
  },
  {
   "cell_type": "code",
   "execution_count": 79,
   "metadata": {},
   "outputs": [
    {
     "data": {
      "text/html": [
       "<div>\n",
       "<style scoped>\n",
       "    .dataframe tbody tr th:only-of-type {\n",
       "        vertical-align: middle;\n",
       "    }\n",
       "\n",
       "    .dataframe tbody tr th {\n",
       "        vertical-align: top;\n",
       "    }\n",
       "\n",
       "    .dataframe thead th {\n",
       "        text-align: right;\n",
       "    }\n",
       "</style>\n",
       "<table border=\"1\" class=\"dataframe\">\n",
       "  <thead>\n",
       "    <tr style=\"text-align: right;\">\n",
       "      <th></th>\n",
       "      <th>ShopMemberId</th>\n",
       "      <th>TradesGroupCode</th>\n",
       "    </tr>\n",
       "  </thead>\n",
       "  <tbody>\n",
       "    <tr>\n",
       "      <th>2</th>\n",
       "      <td>XEaqqY1eRKzWOnVlEcsb8Pmr4GlfoVeJnaGHZLspuHU=</td>\n",
       "      <td>zlckkBKwIHcy7ZmGadIlJ/b5ul6kGhiIAOTXf98aaAA=</td>\n",
       "    </tr>\n",
       "    <tr>\n",
       "      <th>4</th>\n",
       "      <td>8UznbMg+eOSRlkBLXLS84s2XcK4BWu3L4+aB46m58WI=</td>\n",
       "      <td>swn3xlscpuSy2stEWoLhKOH+rqgdFw3y50b/PMWrEL0=</td>\n",
       "    </tr>\n",
       "    <tr>\n",
       "      <th>10</th>\n",
       "      <td>Ve6c+CYySXvh05W32X/vTFY9U0o9V/wwwFBOxKV/1U0=</td>\n",
       "      <td>8j7AEg4ZW2cCjpCwd5Pa1LcLOkYO98FXxwn9RJv4WKc=</td>\n",
       "    </tr>\n",
       "    <tr>\n",
       "      <th>30</th>\n",
       "      <td>Cl8xkthmsayjNnyDLopM4JnK4ISxfa1K3gn3wac/rY0=</td>\n",
       "      <td>w0wN+bdBM9IvefpeJLOiLaV2k+6bSVlxm2WvWBnXYaE=</td>\n",
       "    </tr>\n",
       "    <tr>\n",
       "      <th>56</th>\n",
       "      <td>vX+OSdVJCaD1xtjyfC+8u9swic3cORXRzskQs+ADEPQ=</td>\n",
       "      <td>CIzcpSy2d3rUKyoCsIQeqLz5xu46OKbwW4cMBx2iz2k=</td>\n",
       "    </tr>\n",
       "    <tr>\n",
       "      <th>...</th>\n",
       "      <td>...</td>\n",
       "      <td>...</td>\n",
       "    </tr>\n",
       "    <tr>\n",
       "      <th>2498852</th>\n",
       "      <td>V8NGNlY6nVAOG4S4mK9IpmWzW/cbl/ajIpPAKSIlso4=</td>\n",
       "      <td>KDOAPWrzUVkulbKwkgPiC+np0nB+qxVp9QJkotQFR9vvTq...</td>\n",
       "    </tr>\n",
       "    <tr>\n",
       "      <th>2498859</th>\n",
       "      <td>e4qsTZOmkg5n3841d4ACxfkCPMTAFU45lYJyXb0ldvE=</td>\n",
       "      <td>I1jlMhcQ0SMP5Uo7OvZGXqyqKsu6izZStvbqeJdReW9lP3...</td>\n",
       "    </tr>\n",
       "    <tr>\n",
       "      <th>2498867</th>\n",
       "      <td>94/8v1CgdPyxN/qTnJrgZycUl5EtZ3HegRLbikXQErA=</td>\n",
       "      <td>7sRxKcgi/f6IA4/hkSjyqHenNGEHvF03E4pKRnZk4eM=</td>\n",
       "    </tr>\n",
       "    <tr>\n",
       "      <th>2498869</th>\n",
       "      <td>rG19JG1e/KzcBgYmQKZLuKipNtCeGYS5nKro89NvEVk=</td>\n",
       "      <td>map5m8KAv47XaAg01s1XhFGzHfO9DkSvFSmlkAIYTAermu...</td>\n",
       "    </tr>\n",
       "    <tr>\n",
       "      <th>2498881</th>\n",
       "      <td>l3rIjvzZUqwjCSQI92CrZ2WGGLQqjbZcrBTZ9YneM64=</td>\n",
       "      <td>rIJVarhUD+9e8Zfr6Q7ES4s1ULfBzFwxqq3/NPwGIzGizk...</td>\n",
       "    </tr>\n",
       "  </tbody>\n",
       "</table>\n",
       "<p>276347 rows × 2 columns</p>\n",
       "</div>"
      ],
      "text/plain": [
       "                                         ShopMemberId  \\\n",
       "2        XEaqqY1eRKzWOnVlEcsb8Pmr4GlfoVeJnaGHZLspuHU=   \n",
       "4        8UznbMg+eOSRlkBLXLS84s2XcK4BWu3L4+aB46m58WI=   \n",
       "10       Ve6c+CYySXvh05W32X/vTFY9U0o9V/wwwFBOxKV/1U0=   \n",
       "30       Cl8xkthmsayjNnyDLopM4JnK4ISxfa1K3gn3wac/rY0=   \n",
       "56       vX+OSdVJCaD1xtjyfC+8u9swic3cORXRzskQs+ADEPQ=   \n",
       "...                                               ...   \n",
       "2498852  V8NGNlY6nVAOG4S4mK9IpmWzW/cbl/ajIpPAKSIlso4=   \n",
       "2498859  e4qsTZOmkg5n3841d4ACxfkCPMTAFU45lYJyXb0ldvE=   \n",
       "2498867  94/8v1CgdPyxN/qTnJrgZycUl5EtZ3HegRLbikXQErA=   \n",
       "2498869  rG19JG1e/KzcBgYmQKZLuKipNtCeGYS5nKro89NvEVk=   \n",
       "2498881  l3rIjvzZUqwjCSQI92CrZ2WGGLQqjbZcrBTZ9YneM64=   \n",
       "\n",
       "                                           TradesGroupCode  \n",
       "2             zlckkBKwIHcy7ZmGadIlJ/b5ul6kGhiIAOTXf98aaAA=  \n",
       "4             swn3xlscpuSy2stEWoLhKOH+rqgdFw3y50b/PMWrEL0=  \n",
       "10            8j7AEg4ZW2cCjpCwd5Pa1LcLOkYO98FXxwn9RJv4WKc=  \n",
       "30            w0wN+bdBM9IvefpeJLOiLaV2k+6bSVlxm2WvWBnXYaE=  \n",
       "56            CIzcpSy2d3rUKyoCsIQeqLz5xu46OKbwW4cMBx2iz2k=  \n",
       "...                                                    ...  \n",
       "2498852  KDOAPWrzUVkulbKwkgPiC+np0nB+qxVp9QJkotQFR9vvTq...  \n",
       "2498859  I1jlMhcQ0SMP5Uo7OvZGXqyqKsu6izZStvbqeJdReW9lP3...  \n",
       "2498867       7sRxKcgi/f6IA4/hkSjyqHenNGEHvF03E4pKRnZk4eM=  \n",
       "2498869  map5m8KAv47XaAg01s1XhFGzHfO9DkSvFSmlkAIYTAermu...  \n",
       "2498881  rIJVarhUD+9e8Zfr6Q7ES4s1ULfBzFwxqq3/NPwGIzGizk...  \n",
       "\n",
       "[276347 rows x 2 columns]"
      ]
     },
     "execution_count": 79,
     "metadata": {},
     "output_type": "execute_result"
    }
   ],
   "source": [
    "df_order = df_order[['ShopMemberId','TradesGroupCode']]\n",
    "df_order"
   ]
  },
  {
   "cell_type": "code",
   "execution_count": 80,
   "metadata": {},
   "outputs": [],
   "source": [
    "use_column = [\"ShopMemberId\", \"TradesGroupCode\", \"SalePageId\", \"OrderDateTime\"]\n",
    "\n",
    "df_orderslave = pd.read_csv('OrderSlaveData.csv',low_memory=False,usecols=use_column)\n"
   ]
  },
  {
   "cell_type": "code",
   "execution_count": 81,
   "metadata": {},
   "outputs": [
    {
     "data": {
      "text/html": [
       "<div>\n",
       "<style scoped>\n",
       "    .dataframe tbody tr th:only-of-type {\n",
       "        vertical-align: middle;\n",
       "    }\n",
       "\n",
       "    .dataframe tbody tr th {\n",
       "        vertical-align: top;\n",
       "    }\n",
       "\n",
       "    .dataframe thead th {\n",
       "        text-align: right;\n",
       "    }\n",
       "</style>\n",
       "<table border=\"1\" class=\"dataframe\">\n",
       "  <thead>\n",
       "    <tr style=\"text-align: right;\">\n",
       "      <th></th>\n",
       "      <th>ShopMemberId</th>\n",
       "      <th>TradesGroupCode</th>\n",
       "      <th>OrderDateTime</th>\n",
       "      <th>SalePageId</th>\n",
       "    </tr>\n",
       "  </thead>\n",
       "  <tbody>\n",
       "    <tr>\n",
       "      <th>38</th>\n",
       "      <td>1NmF8ENKR2hNFMWeRdHa9sqPsqHXdswYKeSJVXsOehk=</td>\n",
       "      <td>+6xv9Xa9QqFb/iF9qMH+d0w7auPlYNiPnCAQU+ms+2g=</td>\n",
       "      <td>2022-04-01 23:38:17.777</td>\n",
       "      <td>UXp30ndaFk4Q8uXayC0XiQ==</td>\n",
       "    </tr>\n",
       "    <tr>\n",
       "      <th>49</th>\n",
       "      <td>2rec1ExiU4W+WoHjpgWKXovO7yaTlQ5on6pPUOVrn4A=</td>\n",
       "      <td>Ay9isRrJoBVaGY71hx0K4XsFIiMjI2wxiOEnipUBuh0=</td>\n",
       "      <td>2022-04-03 19:36:16.217</td>\n",
       "      <td>gqgnAiKwg+a3wSklB9FCpg==</td>\n",
       "    </tr>\n",
       "    <tr>\n",
       "      <th>102</th>\n",
       "      <td>fgGHiAiR1Q6FKZHmFzturlhNaUIIEmFZwNCHKLpjohs=</td>\n",
       "      <td>KN4tZ1c9gCg5C6S/JIH9A9OWzp5Jxb3dXlxiIQDqlyE=</td>\n",
       "      <td>2022-05-31 21:20:40.597</td>\n",
       "      <td>LY+Ws3PtZzc81O0WP/uXDA==</td>\n",
       "    </tr>\n",
       "    <tr>\n",
       "      <th>132</th>\n",
       "      <td>BxN/DNflvJfpun+R294aE+MssEAetYJiD9T8hGfZtAw=</td>\n",
       "      <td>CqDexx4oCphGD3XQVT1YPdMilV2den0fyoNHMmRvwJs=</td>\n",
       "      <td>2022-05-20 17:30:28.727</td>\n",
       "      <td>9soRa2k9Ax3aAbim/PfIvg==</td>\n",
       "    </tr>\n",
       "    <tr>\n",
       "      <th>144</th>\n",
       "      <td>j2eiRlnSk2Jl0l+0boHwcxRltijwmjY0nE3jY8z87/4=</td>\n",
       "      <td>jeD4Dh81yNWte/ilJ2XlZ+6Vqy7l3SBDADQ7MuWOCTw=</td>\n",
       "      <td>2022-04-21 22:19:23.500</td>\n",
       "      <td>mSSVLaeaMZWcPDsQtYHHLA==</td>\n",
       "    </tr>\n",
       "    <tr>\n",
       "      <th>...</th>\n",
       "      <td>...</td>\n",
       "      <td>...</td>\n",
       "      <td>...</td>\n",
       "      <td>...</td>\n",
       "    </tr>\n",
       "    <tr>\n",
       "      <th>5638104</th>\n",
       "      <td>8CJ0I32OUBV1HiUfM6O55rOdNsr5at1frZjbpoRQ5gs=</td>\n",
       "      <td>IkoGyc9qFgGBWpTdeeEvJ45UFHHpzqIjNySQE4+GabMR0E...</td>\n",
       "      <td>2022-04-05 16:53:48.000</td>\n",
       "      <td>NaN</td>\n",
       "    </tr>\n",
       "    <tr>\n",
       "      <th>5638115</th>\n",
       "      <td>zh6jxbuwYc5IhAxpriNyFv9RCgC3efrBGwDqoVc5s14=</td>\n",
       "      <td>E6iagzdl3FBkCh6ZILSlGCGd1RM/nDO+BGTr4p2Y0gqIVC...</td>\n",
       "      <td>2022-04-05 17:58:01.000</td>\n",
       "      <td>NaN</td>\n",
       "    </tr>\n",
       "    <tr>\n",
       "      <th>5638183</th>\n",
       "      <td>lZYtycI9h9tROjPYXUfCLVz8jZc0+44c7J1FOVGoCAw=</td>\n",
       "      <td>LjUY/SdIrc6ieWP4OlcqNPJz3hjNgR2MFwH4NiEc1JXuXw...</td>\n",
       "      <td>2022-04-16 14:56:02.000</td>\n",
       "      <td>NaN</td>\n",
       "    </tr>\n",
       "    <tr>\n",
       "      <th>5638190</th>\n",
       "      <td>KLyB0+G5pNJoAOYuD+3phoWcBR2zb9/N02Bg5USpbQk=</td>\n",
       "      <td>sN3nl1fndNQSU8l0GPEr8pp3s8VO5Be1xwuVWgxIl3x5zP...</td>\n",
       "      <td>2022-05-31 15:46:19.000</td>\n",
       "      <td>NaN</td>\n",
       "    </tr>\n",
       "    <tr>\n",
       "      <th>5638349</th>\n",
       "      <td>wLpSBPOcvmftQl3r6+q/wjKD7C0ishK07B4d8zjDuKk=</td>\n",
       "      <td>WroZ+O/Je+FZbllpx5qv0vX0+3tvSmGQNWInSkxlRlBrZd...</td>\n",
       "      <td>2022-04-04 15:39:45.000</td>\n",
       "      <td>NaN</td>\n",
       "    </tr>\n",
       "  </tbody>\n",
       "</table>\n",
       "<p>108001 rows × 4 columns</p>\n",
       "</div>"
      ],
      "text/plain": [
       "                                         ShopMemberId  \\\n",
       "38       1NmF8ENKR2hNFMWeRdHa9sqPsqHXdswYKeSJVXsOehk=   \n",
       "49       2rec1ExiU4W+WoHjpgWKXovO7yaTlQ5on6pPUOVrn4A=   \n",
       "102      fgGHiAiR1Q6FKZHmFzturlhNaUIIEmFZwNCHKLpjohs=   \n",
       "132      BxN/DNflvJfpun+R294aE+MssEAetYJiD9T8hGfZtAw=   \n",
       "144      j2eiRlnSk2Jl0l+0boHwcxRltijwmjY0nE3jY8z87/4=   \n",
       "...                                               ...   \n",
       "5638104  8CJ0I32OUBV1HiUfM6O55rOdNsr5at1frZjbpoRQ5gs=   \n",
       "5638115  zh6jxbuwYc5IhAxpriNyFv9RCgC3efrBGwDqoVc5s14=   \n",
       "5638183  lZYtycI9h9tROjPYXUfCLVz8jZc0+44c7J1FOVGoCAw=   \n",
       "5638190  KLyB0+G5pNJoAOYuD+3phoWcBR2zb9/N02Bg5USpbQk=   \n",
       "5638349  wLpSBPOcvmftQl3r6+q/wjKD7C0ishK07B4d8zjDuKk=   \n",
       "\n",
       "                                           TradesGroupCode  \\\n",
       "38            +6xv9Xa9QqFb/iF9qMH+d0w7auPlYNiPnCAQU+ms+2g=   \n",
       "49            Ay9isRrJoBVaGY71hx0K4XsFIiMjI2wxiOEnipUBuh0=   \n",
       "102           KN4tZ1c9gCg5C6S/JIH9A9OWzp5Jxb3dXlxiIQDqlyE=   \n",
       "132           CqDexx4oCphGD3XQVT1YPdMilV2den0fyoNHMmRvwJs=   \n",
       "144           jeD4Dh81yNWte/ilJ2XlZ+6Vqy7l3SBDADQ7MuWOCTw=   \n",
       "...                                                    ...   \n",
       "5638104  IkoGyc9qFgGBWpTdeeEvJ45UFHHpzqIjNySQE4+GabMR0E...   \n",
       "5638115  E6iagzdl3FBkCh6ZILSlGCGd1RM/nDO+BGTr4p2Y0gqIVC...   \n",
       "5638183  LjUY/SdIrc6ieWP4OlcqNPJz3hjNgR2MFwH4NiEc1JXuXw...   \n",
       "5638190  sN3nl1fndNQSU8l0GPEr8pp3s8VO5Be1xwuVWgxIl3x5zP...   \n",
       "5638349  WroZ+O/Je+FZbllpx5qv0vX0+3tvSmGQNWInSkxlRlBrZd...   \n",
       "\n",
       "                  OrderDateTime                SalePageId  \n",
       "38      2022-04-01 23:38:17.777  UXp30ndaFk4Q8uXayC0XiQ==  \n",
       "49      2022-04-03 19:36:16.217  gqgnAiKwg+a3wSklB9FCpg==  \n",
       "102     2022-05-31 21:20:40.597  LY+Ws3PtZzc81O0WP/uXDA==  \n",
       "132     2022-05-20 17:30:28.727  9soRa2k9Ax3aAbim/PfIvg==  \n",
       "144     2022-04-21 22:19:23.500  mSSVLaeaMZWcPDsQtYHHLA==  \n",
       "...                         ...                       ...  \n",
       "5638104 2022-04-05 16:53:48.000                       NaN  \n",
       "5638115 2022-04-05 17:58:01.000                       NaN  \n",
       "5638183 2022-04-16 14:56:02.000                       NaN  \n",
       "5638190 2022-05-31 15:46:19.000                       NaN  \n",
       "5638349 2022-04-04 15:39:45.000                       NaN  \n",
       "\n",
       "[108001 rows x 4 columns]"
      ]
     },
     "execution_count": 81,
     "metadata": {},
     "output_type": "execute_result"
    }
   ],
   "source": [
    "df_orderslave['OrderDateTime'] = pd.to_datetime(df_orderslave['OrderDateTime'])\n",
    "df_orderslave = df_orderslave[(df_orderslave['OrderDateTime']>='2022-04-01')&(df_orderslave['OrderDateTime']<='2022-06-30')]\n",
    "df_orderslave"
   ]
  },
  {
   "cell_type": "code",
   "execution_count": 82,
   "metadata": {},
   "outputs": [
    {
     "name": "stdout",
     "output_type": "stream",
     "text": [
      "有27190個id,缺80811個\n"
     ]
    }
   ],
   "source": [
    "df_orderslave =df_orderslave[[\"ShopMemberId\", \"TradesGroupCode\", \"SalePageId\"]]\n",
    "# df_orderslave\n",
    "n= 0\n",
    "y= 0\n",
    "for i in df_orderslave.SalePageId.isna():\n",
    "    if i ==False:\n",
    "        y+=1\n",
    "    elif i == True:\n",
    "        n+=1\n",
    "\n",
    "print(f\"有{y}個id,缺{n}個\")"
   ]
  },
  {
   "cell_type": "code",
   "execution_count": 83,
   "metadata": {},
   "outputs": [
    {
     "name": "stdout",
     "output_type": "stream",
     "text": [
      "有31653個id,缺88483個\n"
     ]
    }
   ],
   "source": [
    "merged_df = pd.merge(df_order, df_orderslave, on=['ShopMemberId', 'TradesGroupCode'], how='right')\n",
    "c= merged_df.SalePageId.isna()\n",
    "n= 0\n",
    "y= 0\n",
    "for i in c:\n",
    "    if i ==False:\n",
    "        y+=1\n",
    "    elif i == True:\n",
    "        n+=1\n",
    "\n",
    "print(f\"有{y}個id,缺{n}個\")"
   ]
  },
  {
   "cell_type": "code",
   "execution_count": 84,
   "metadata": {},
   "outputs": [
    {
     "data": {
      "text/html": [
       "<div>\n",
       "<style scoped>\n",
       "    .dataframe tbody tr th:only-of-type {\n",
       "        vertical-align: middle;\n",
       "    }\n",
       "\n",
       "    .dataframe tbody tr th {\n",
       "        vertical-align: top;\n",
       "    }\n",
       "\n",
       "    .dataframe thead th {\n",
       "        text-align: right;\n",
       "    }\n",
       "</style>\n",
       "<table border=\"1\" class=\"dataframe\">\n",
       "  <thead>\n",
       "    <tr style=\"text-align: right;\">\n",
       "      <th></th>\n",
       "      <th>ShopMemberId</th>\n",
       "      <th>TradesGroupCode</th>\n",
       "      <th>SalePageId</th>\n",
       "    </tr>\n",
       "  </thead>\n",
       "  <tbody>\n",
       "    <tr>\n",
       "      <th>0</th>\n",
       "      <td>1NmF8ENKR2hNFMWeRdHa9sqPsqHXdswYKeSJVXsOehk=</td>\n",
       "      <td>+6xv9Xa9QqFb/iF9qMH+d0w7auPlYNiPnCAQU+ms+2g=</td>\n",
       "      <td>UXp30ndaFk4Q8uXayC0XiQ==</td>\n",
       "    </tr>\n",
       "    <tr>\n",
       "      <th>1</th>\n",
       "      <td>2rec1ExiU4W+WoHjpgWKXovO7yaTlQ5on6pPUOVrn4A=</td>\n",
       "      <td>Ay9isRrJoBVaGY71hx0K4XsFIiMjI2wxiOEnipUBuh0=</td>\n",
       "      <td>gqgnAiKwg+a3wSklB9FCpg==</td>\n",
       "    </tr>\n",
       "    <tr>\n",
       "      <th>2</th>\n",
       "      <td>fgGHiAiR1Q6FKZHmFzturlhNaUIIEmFZwNCHKLpjohs=</td>\n",
       "      <td>KN4tZ1c9gCg5C6S/JIH9A9OWzp5Jxb3dXlxiIQDqlyE=</td>\n",
       "      <td>LY+Ws3PtZzc81O0WP/uXDA==</td>\n",
       "    </tr>\n",
       "    <tr>\n",
       "      <th>3</th>\n",
       "      <td>BxN/DNflvJfpun+R294aE+MssEAetYJiD9T8hGfZtAw=</td>\n",
       "      <td>CqDexx4oCphGD3XQVT1YPdMilV2den0fyoNHMmRvwJs=</td>\n",
       "      <td>9soRa2k9Ax3aAbim/PfIvg==</td>\n",
       "    </tr>\n",
       "    <tr>\n",
       "      <th>5</th>\n",
       "      <td>j2eiRlnSk2Jl0l+0boHwcxRltijwmjY0nE3jY8z87/4=</td>\n",
       "      <td>jeD4Dh81yNWte/ilJ2XlZ+6Vqy7l3SBDADQ7MuWOCTw=</td>\n",
       "      <td>mSSVLaeaMZWcPDsQtYHHLA==</td>\n",
       "    </tr>\n",
       "    <tr>\n",
       "      <th>...</th>\n",
       "      <td>...</td>\n",
       "      <td>...</td>\n",
       "      <td>...</td>\n",
       "    </tr>\n",
       "    <tr>\n",
       "      <th>120105</th>\n",
       "      <td>bqzMEmWrAJoe4lCtiWdeixcRe0o9rGclxYIJp8nSdms=</td>\n",
       "      <td>esHnTgwTVYp8rOPCfUk2+KXVVCgvJcWr1joyxLlMGdc=</td>\n",
       "      <td>ql8icJGquSRJbXmJIlT7/g==</td>\n",
       "    </tr>\n",
       "    <tr>\n",
       "      <th>120106</th>\n",
       "      <td>VtAlYgORJkpNX39lru6R/dAN04E4HGfzkDMydgeq+4Y=</td>\n",
       "      <td>M3QOLetEWAtSJvXZFkBEVsy/exn2eZX2iOHXwoYxBlE=</td>\n",
       "      <td>MJzes5XT0Myyba8OJY06EA==</td>\n",
       "    </tr>\n",
       "    <tr>\n",
       "      <th>120124</th>\n",
       "      <td>nTVrHgQGSLTsitNbIEmKhEygNmw3TrY8QXRZ0/4j/Wc=</td>\n",
       "      <td>9RzKrNBaV3PnoKKNp/um6y6lPt2AFSMaEcxrSIgQn7o=</td>\n",
       "      <td>9Cxc4x+SQbBKk8njb4K39Q==</td>\n",
       "    </tr>\n",
       "    <tr>\n",
       "      <th>120125</th>\n",
       "      <td>Vf3Tpdb5zhZXexeleFYlNnHu6nL5qMYrzfeULuTak9Y=</td>\n",
       "      <td>7X3lqgDreq/VSLpnrCJaCbRhb7rItn+H5bjmAoKhmZw=</td>\n",
       "      <td>5f/sDTEgtchWUrOzMukQBQ==</td>\n",
       "    </tr>\n",
       "    <tr>\n",
       "      <th>120126</th>\n",
       "      <td>/OgelZzoh7i7aUDE+Xm8Qi2mDGDKgEtpc7ih12QNPOA=</td>\n",
       "      <td>bObEgxaA/hFQwD/YPQi3Xt380nylQXOc1xeG/cMx9Gs=</td>\n",
       "      <td>fh/P/RQMQ1+QtAhgtE9rrw==</td>\n",
       "    </tr>\n",
       "  </tbody>\n",
       "</table>\n",
       "<p>24900 rows × 3 columns</p>\n",
       "</div>"
      ],
      "text/plain": [
       "                                        ShopMemberId  \\\n",
       "0       1NmF8ENKR2hNFMWeRdHa9sqPsqHXdswYKeSJVXsOehk=   \n",
       "1       2rec1ExiU4W+WoHjpgWKXovO7yaTlQ5on6pPUOVrn4A=   \n",
       "2       fgGHiAiR1Q6FKZHmFzturlhNaUIIEmFZwNCHKLpjohs=   \n",
       "3       BxN/DNflvJfpun+R294aE+MssEAetYJiD9T8hGfZtAw=   \n",
       "5       j2eiRlnSk2Jl0l+0boHwcxRltijwmjY0nE3jY8z87/4=   \n",
       "...                                              ...   \n",
       "120105  bqzMEmWrAJoe4lCtiWdeixcRe0o9rGclxYIJp8nSdms=   \n",
       "120106  VtAlYgORJkpNX39lru6R/dAN04E4HGfzkDMydgeq+4Y=   \n",
       "120124  nTVrHgQGSLTsitNbIEmKhEygNmw3TrY8QXRZ0/4j/Wc=   \n",
       "120125  Vf3Tpdb5zhZXexeleFYlNnHu6nL5qMYrzfeULuTak9Y=   \n",
       "120126  /OgelZzoh7i7aUDE+Xm8Qi2mDGDKgEtpc7ih12QNPOA=   \n",
       "\n",
       "                                     TradesGroupCode                SalePageId  \n",
       "0       +6xv9Xa9QqFb/iF9qMH+d0w7auPlYNiPnCAQU+ms+2g=  UXp30ndaFk4Q8uXayC0XiQ==  \n",
       "1       Ay9isRrJoBVaGY71hx0K4XsFIiMjI2wxiOEnipUBuh0=  gqgnAiKwg+a3wSklB9FCpg==  \n",
       "2       KN4tZ1c9gCg5C6S/JIH9A9OWzp5Jxb3dXlxiIQDqlyE=  LY+Ws3PtZzc81O0WP/uXDA==  \n",
       "3       CqDexx4oCphGD3XQVT1YPdMilV2den0fyoNHMmRvwJs=  9soRa2k9Ax3aAbim/PfIvg==  \n",
       "5       jeD4Dh81yNWte/ilJ2XlZ+6Vqy7l3SBDADQ7MuWOCTw=  mSSVLaeaMZWcPDsQtYHHLA==  \n",
       "...                                              ...                       ...  \n",
       "120105  esHnTgwTVYp8rOPCfUk2+KXVVCgvJcWr1joyxLlMGdc=  ql8icJGquSRJbXmJIlT7/g==  \n",
       "120106  M3QOLetEWAtSJvXZFkBEVsy/exn2eZX2iOHXwoYxBlE=  MJzes5XT0Myyba8OJY06EA==  \n",
       "120124  9RzKrNBaV3PnoKKNp/um6y6lPt2AFSMaEcxrSIgQn7o=  9Cxc4x+SQbBKk8njb4K39Q==  \n",
       "120125  7X3lqgDreq/VSLpnrCJaCbRhb7rItn+H5bjmAoKhmZw=  5f/sDTEgtchWUrOzMukQBQ==  \n",
       "120126  bObEgxaA/hFQwD/YPQi3Xt380nylQXOc1xeG/cMx9Gs=  fh/P/RQMQ1+QtAhgtE9rrw==  \n",
       "\n",
       "[24900 rows x 3 columns]"
      ]
     },
     "execution_count": 84,
     "metadata": {},
     "output_type": "execute_result"
    }
   ],
   "source": [
    "merged_df = merged_df.dropna(subset=['SalePageId'])\n",
    "\n",
    "merged_df = merged_df.drop_duplicates()\n",
    "merged_df \n"
   ]
  },
  {
   "cell_type": "code",
   "execution_count": 85,
   "metadata": {},
   "outputs": [],
   "source": [
    "merged_df.to_csv(\"Answer.csv\")"
   ]
  },
  {
   "cell_type": "code",
   "execution_count": null,
   "metadata": {},
   "outputs": [],
   "source": []
  }
 ],
 "metadata": {
  "kernelspec": {
   "display_name": "Python 3",
   "language": "python",
   "name": "python3"
  },
  "language_info": {
   "codemirror_mode": {
    "name": "ipython",
    "version": 3
   },
   "file_extension": ".py",
   "mimetype": "text/x-python",
   "name": "python",
   "nbconvert_exporter": "python",
   "pygments_lexer": "ipython3",
   "version": "3.8.10"
  },
  "orig_nbformat": 4
 },
 "nbformat": 4,
 "nbformat_minor": 2
}
